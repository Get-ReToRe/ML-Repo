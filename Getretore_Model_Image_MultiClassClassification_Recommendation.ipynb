{
 "cells": [
  {
   "cell_type": "markdown",
   "id": "34a27565",
   "metadata": {},
   "source": [
    "### Import all necessary libraries"
   ]
  },
  {
   "cell_type": "code",
   "execution_count": 1,
   "id": "3eec2216",
   "metadata": {},
   "outputs": [],
   "source": [
    "from tensorflow import keras\n",
    "from keras.models import Sequential\n",
    "from keras.layers import Dense,Convolution2D,MaxPooling2D,Flatten,Conv2D,Dropout\n",
    "from keras.preprocessing.image import ImageDataGenerator\n",
    "import pandas as pd\n",
    "import numpy as np\n",
    "import os\n",
    "import matplotlib.pyplot as plt\n",
    "from PIL import Image\n",
    "import tensorflow as tf\n",
    "import matplotlib.pyplot as plt"
   ]
  },
  {
   "cell_type": "markdown",
   "id": "42a6b629",
   "metadata": {},
   "source": [
    "### Let's have a look at the data"
   ]
  },
  {
   "cell_type": "code",
   "execution_count": 2,
   "id": "7751381e",
   "metadata": {},
   "outputs": [
    {
     "data": {
      "image/png": "[encoded data removed]",
      "text/plain": [
       "<PIL.JpegImagePlugin.JpegImageFile image mode=RGB size=64x64>"
      ]
     },
     "execution_count": 2,
     "metadata": {},
     "output_type": "execute_result"
    }
   ],
   "source": [
    "im=Image.open('input/Getretore_Image_Classification_dataset/seg_train/seg_train/bahari/0BJ73JDNTU36.jpg')\n",
    "im"
   ]
  },
  {
   "cell_type": "code",
   "execution_count": 3,
   "id": "1b540e0c",
   "metadata": {},
   "outputs": [
    {
     "data": {
      "image/png": "[encoded data removed]",
      "text/plain": [
       "<PIL.JpegImagePlugin.JpegImageFile image mode=RGB size=64x64>"
      ]
     },
     "execution_count": 3,
     "metadata": {},
     "output_type": "execute_result"
    }
   ],
   "source": [
    "# Let's have a look at another image\n",
    "im2=Image.open('input/Getretore_Image_Classification_dataset/seg_train/seg_train/Taman Hiburan/Taman Hiburan_27.jpg')\n",
    "im2"
   ]
  },
  {
   "cell_type": "markdown",
   "id": "f197aa41",
   "metadata": {},
   "source": [
    "### Build the model for multiclass classification with 6 classes"
   ]
  },
  {
   "cell_type": "code",
   "execution_count": 4,
   "id": "379473d9",
   "metadata": {},
   "outputs": [],
   "source": [
    "model = Sequential()\n",
    "model.add(Conv2D(32, (3, 3), activation='relu', input_shape=(64, 64, 3)))\n",
    "model.add(MaxPooling2D((2, 2)))\n",
    "model.add(Conv2D(64, (3, 3), activation='relu'))\n",
    "model.add(MaxPooling2D((2, 2)))\n",
    "model.add(Conv2D(128, (3, 3), activation='relu'))\n",
    "model.add(MaxPooling2D((2, 2)))\n",
    "model.add(Flatten())\n",
    "model.add(Dense(512, activation='relu'))\n",
    "model.add(Dense(6, activation='softmax'))"
   ]
  },
  {
   "cell_type": "code",
   "execution_count": 5,
   "id": "f048664c",
   "metadata": {},
   "outputs": [
    {
     "name": "stdout",
     "output_type": "stream",
     "text": [
      "Model: \"sequential\"\n",
      "_________________________________________________________________\n",
      " Layer (type)                Output Shape              Param #   \n",
      "=================================================================\n",
      " conv2d (Conv2D)             (None, 62, 62, 32)        896       \n",
      "                                                                 \n",
      " max_pooling2d (MaxPooling2D  (None, 31, 31, 32)       0         \n",
      " )                                                               \n",
      "                                                                 \n",
      " conv2d_1 (Conv2D)           (None, 29, 29, 64)        18496     \n",
      "                                                                 \n",
      " max_pooling2d_1 (MaxPooling  (None, 14, 14, 64)       0         \n",
      " 2D)                                                             \n",
      "                                                                 \n",
      " conv2d_2 (Conv2D)           (None, 12, 12, 128)       73856     \n",
      "                                                                 \n",
      " max_pooling2d_2 (MaxPooling  (None, 6, 6, 128)        0         \n",
      " 2D)                                                             \n",
      "                                                                 \n",
      " flatten (Flatten)           (None, 4608)              0         \n",
      "                                                                 \n",
      " dense (Dense)               (None, 512)               2359808   \n",
      "                                                                 \n",
      " dense_1 (Dense)             (None, 6)                 3078      \n",
      "                                                                 \n",
      "=================================================================\n",
      "Total params: 2,456,134\n",
      "Trainable params: 2,456,134\n",
      "Non-trainable params: 0\n",
      "_________________________________________________________________\n"
     ]
    }
   ],
   "source": [
    "model.summary()"
   ]
  },
  {
   "cell_type": "code",
   "execution_count": 6,
   "id": "4b5aa65f",
   "metadata": {},
   "outputs": [],
   "source": [
    "model.compile(optimizer= 'adam', loss= 'categorical_crossentropy', metrics= ['accuracy'])"
   ]
  },
  {
   "cell_type": "code",
   "execution_count": 7,
   "id": "6c90bb08",
   "metadata": {},
   "outputs": [
    {
     "name": "stdout",
     "output_type": "stream",
     "text": [
      "Found 660 images belonging to 6 classes.\n",
      "Found 90 images belonging to 6 classes.\n"
     ]
    }
   ],
   "source": [
    "train_datagen = ImageDataGenerator(rescale = 1./255, \n",
    "                                   shear_range = 0.2, \n",
    "                                   zoom_range = 0.2, \n",
    "                                   horizontal_flip = True)\n",
    "\n",
    "test_datagen = ImageDataGenerator(rescale = 1./255)\n",
    "\n",
    "training_set = train_datagen.flow_from_directory('input/Getretore_Image_Classification_dataset/seg_train/seg_train', \n",
    "                                                    target_size = (64, 64), \n",
    "                                                    batch_size = 1)\n",
    "test_set = test_datagen.flow_from_directory('input/Getretore_Image_Classification_dataset/seg_test/seg_test',\n",
    "                                                target_size = (64, 64),\n",
    "                                                 batch_size = 1)"
   ]
  },
  {
   "cell_type": "markdown",
   "id": "753dff4b",
   "metadata": {},
   "source": [
    "### Define the callback function with desired training accuracy"
   ]
  },
  {
   "cell_type": "code",
   "execution_count": 8,
   "id": "a90bbb4a",
   "metadata": {},
   "outputs": [],
   "source": [
    "class AccuracyCallback(tf.keras.callbacks.Callback):\n",
    "    def on_epoch_end(self, epoch, logs={}):\n",
    "        if logs.get('accuracy') >= 0.94:\n",
    "            print(\"\\nReached 94% accuracy, stopping training!\")\n",
    "            self.model.stop_training = True\n",
    "\n",
    "# Create an instance of the callback\n",
    "accuracy_callback = AccuracyCallback()"
   ]
  },
  {
   "cell_type": "code",
   "execution_count": 9,
   "id": "67fd436b",
   "metadata": {},
   "outputs": [
    {
     "data": {
      "text/plain": [
       "6"
      ]
     },
     "execution_count": 9,
     "metadata": {},
     "output_type": "execute_result"
    }
   ],
   "source": [
    "len(set(training_set.classes))"
   ]
  },
  {
   "cell_type": "code",
   "execution_count": 10,
   "id": "9c5cca5d",
   "metadata": {},
   "outputs": [
    {
     "name": "stdout",
     "output_type": "stream",
     "text": [
      "Epoch 1/200\n",
      " 95/100 [===========================>..] - ETA: 0s - loss: 1.9462 - accuracy: 0.1263WARNING:tensorflow:Your input ran out of data; interrupting training. Make sure that your dataset or generator can generate at least `steps_per_epoch * epochs` batches (in this case, 100 batches). You may need to use the repeat() function when building your dataset.\n",
      "100/100 [==============================] - 10s 32ms/step - loss: 1.9360 - accuracy: 0.1500 - val_loss: 1.7850 - val_accuracy: 0.1667\n",
      "Epoch 2/200\n",
      "100/100 [==============================] - 1s 10ms/step - loss: 1.7996 - accuracy: 0.2300\n",
      "Epoch 3/200\n",
      "100/100 [==============================] - 1s 8ms/step - loss: 1.7148 - accuracy: 0.2300\n",
      "Epoch 4/200\n",
      "100/100 [==============================] - 1s 8ms/step - loss: 1.6980 - accuracy: 0.2600\n",
      "Epoch 5/200\n",
      "100/100 [==============================] - 1s 8ms/step - loss: 1.6667 - accuracy: 0.3000\n",
      "Epoch 6/200\n",
      "100/100 [==============================] - 1s 8ms/step - loss: 1.5992 - accuracy: 0.3300\n",
      "Epoch 7/200\n",
      "100/100 [==============================] - 1s 8ms/step - loss: 1.5416 - accuracy: 0.3200\n",
      "Epoch 8/200\n",
      "100/100 [==============================] - 1s 8ms/step - loss: 1.5795 - accuracy: 0.3300\n",
      "Epoch 9/200\n",
      "100/100 [==============================] - 1s 9ms/step - loss: 1.5783 - accuracy: 0.3000\n",
      "Epoch 10/200\n",
      "100/100 [==============================] - 1s 8ms/step - loss: 1.5404 - accuracy: 0.3700\n",
      "Epoch 11/200\n",
      "100/100 [==============================] - 1s 9ms/step - loss: 1.4738 - accuracy: 0.3800\n",
      "Epoch 12/200\n",
      "100/100 [==============================] - 1s 9ms/step - loss: 1.4684 - accuracy: 0.3300\n",
      "Epoch 13/200\n",
      "100/100 [==============================] - 1s 9ms/step - loss: 1.4388 - accuracy: 0.4100\n",
      "Epoch 14/200\n",
      "100/100 [==============================] - 1s 8ms/step - loss: 1.5596 - accuracy: 0.3600\n",
      "Epoch 15/200\n",
      "100/100 [==============================] - 1s 8ms/step - loss: 1.5213 - accuracy: 0.2400\n",
      "Epoch 16/200\n",
      "100/100 [==============================] - 1s 8ms/step - loss: 1.7180 - accuracy: 0.3000\n",
      "Epoch 17/200\n",
      "100/100 [==============================] - 1s 8ms/step - loss: 1.5841 - accuracy: 0.2800\n",
      "Epoch 18/200\n",
      "100/100 [==============================] - 1s 8ms/step - loss: 1.4583 - accuracy: 0.3700\n",
      "Epoch 19/200\n",
      "100/100 [==============================] - 1s 8ms/step - loss: 1.5910 - accuracy: 0.2800\n",
      "Epoch 20/200\n",
      "100/100 [==============================] - 1s 9ms/step - loss: 1.5427 - accuracy: 0.3800\n",
      "Epoch 21/200\n",
      "100/100 [==============================] - 1s 10ms/step - loss: 1.4016 - accuracy: 0.4900\n",
      "Epoch 22/200\n",
      "100/100 [==============================] - 1s 12ms/step - loss: 1.5220 - accuracy: 0.3700\n",
      "Epoch 23/200\n",
      "100/100 [==============================] - 1s 11ms/step - loss: 1.5600 - accuracy: 0.3500\n",
      "Epoch 24/200\n",
      "100/100 [==============================] - 1s 11ms/step - loss: 1.4922 - accuracy: 0.3500\n",
      "Epoch 25/200\n",
      "100/100 [==============================] - 1s 10ms/step - loss: 1.3307 - accuracy: 0.4500\n",
      "Epoch 26/200\n",
      "100/100 [==============================] - 1s 9ms/step - loss: 1.3811 - accuracy: 0.4500\n",
      "Epoch 27/200\n",
      "100/100 [==============================] - 1s 9ms/step - loss: 1.3013 - accuracy: 0.4600\n",
      "Epoch 28/200\n",
      "100/100 [==============================] - 1s 10ms/step - loss: 1.5110 - accuracy: 0.3900\n",
      "Epoch 29/200\n",
      "100/100 [==============================] - 1s 10ms/step - loss: 1.3736 - accuracy: 0.4400\n",
      "Epoch 30/200\n",
      "100/100 [==============================] - 1s 11ms/step - loss: 1.2051 - accuracy: 0.5900\n",
      "Epoch 31/200\n",
      "100/100 [==============================] - 1s 10ms/step - loss: 1.6126 - accuracy: 0.4200\n",
      "Epoch 32/200\n",
      "100/100 [==============================] - 1s 10ms/step - loss: 1.4650 - accuracy: 0.4100\n",
      "Epoch 33/200\n",
      "100/100 [==============================] - 1s 9ms/step - loss: 1.3113 - accuracy: 0.5100\n",
      "Epoch 34/200\n",
      "100/100 [==============================] - 1s 9ms/step - loss: 1.4120 - accuracy: 0.3800\n",
      "Epoch 35/200\n",
      "100/100 [==============================] - 1s 11ms/step - loss: 1.2154 - accuracy: 0.4800\n",
      "Epoch 36/200\n",
      "100/100 [==============================] - 1s 12ms/step - loss: 1.4081 - accuracy: 0.4100\n",
      "Epoch 37/200\n",
      "100/100 [==============================] - 1s 9ms/step - loss: 1.3945 - accuracy: 0.4700\n",
      "Epoch 38/200\n",
      "100/100 [==============================] - 1s 9ms/step - loss: 1.3129 - accuracy: 0.5100\n",
      "Epoch 39/200\n",
      "100/100 [==============================] - 1s 9ms/step - loss: 1.4117 - accuracy: 0.3900\n",
      "Epoch 40/200\n",
      "100/100 [==============================] - 1s 9ms/step - loss: 1.3596 - accuracy: 0.4900\n",
      "Epoch 41/200\n",
      "100/100 [==============================] - 1s 8ms/step - loss: 1.2268 - accuracy: 0.4700\n",
      "Epoch 42/200\n",
      "100/100 [==============================] - 1s 12ms/step - loss: 1.2785 - accuracy: 0.5000\n",
      "Epoch 43/200\n",
      "100/100 [==============================] - 1s 12ms/step - loss: 1.2313 - accuracy: 0.5000\n",
      "Epoch 44/200\n",
      "100/100 [==============================] - 1s 10ms/step - loss: 1.2664 - accuracy: 0.5400\n",
      "Epoch 45/200\n",
      "100/100 [==============================] - 1s 10ms/step - loss: 1.3193 - accuracy: 0.4900\n",
      "Epoch 46/200\n",
      "100/100 [==============================] - 1s 9ms/step - loss: 1.1646 - accuracy: 0.5700\n",
      "Epoch 47/200\n",
      "100/100 [==============================] - 1s 9ms/step - loss: 1.1783 - accuracy: 0.4700\n",
      "Epoch 48/200\n",
      "100/100 [==============================] - 1s 10ms/step - loss: 1.3469 - accuracy: 0.5400\n",
      "Epoch 49/200\n",
      "100/100 [==============================] - 1s 10ms/step - loss: 1.2017 - accuracy: 0.5500\n",
      "Epoch 50/200\n",
      "100/100 [==============================] - 1s 11ms/step - loss: 1.1658 - accuracy: 0.5500\n",
      "Epoch 51/200\n",
      "100/100 [==============================] - 1s 11ms/step - loss: 1.1682 - accuracy: 0.5300\n",
      "Epoch 52/200\n",
      "100/100 [==============================] - 1s 10ms/step - loss: 1.2634 - accuracy: 0.5400\n",
      "Epoch 53/200\n",
      "100/100 [==============================] - 1s 12ms/step - loss: 1.3246 - accuracy: 0.4200\n",
      "Epoch 54/200\n",
      "100/100 [==============================] - 1s 12ms/step - loss: 0.9848 - accuracy: 0.6500\n",
      "Epoch 55/200\n",
      "100/100 [==============================] - 1s 11ms/step - loss: 1.2343 - accuracy: 0.4700\n",
      "Epoch 56/200\n",
      "100/100 [==============================] - 1s 12ms/step - loss: 1.2187 - accuracy: 0.5100\n",
      "Epoch 57/200\n",
      "100/100 [==============================] - 1s 11ms/step - loss: 1.1286 - accuracy: 0.5900\n",
      "Epoch 58/200\n",
      "100/100 [==============================] - 1s 10ms/step - loss: 1.0453 - accuracy: 0.5900\n",
      "Epoch 59/200\n",
      "100/100 [==============================] - 1s 11ms/step - loss: 0.9711 - accuracy: 0.6100\n",
      "Epoch 60/200\n",
      "100/100 [==============================] - 1s 9ms/step - loss: 1.0947 - accuracy: 0.5700\n",
      "Epoch 61/200\n",
      "100/100 [==============================] - 1s 11ms/step - loss: 1.0782 - accuracy: 0.5800\n",
      "Epoch 62/200\n",
      "100/100 [==============================] - 1s 11ms/step - loss: 1.1327 - accuracy: 0.5100\n",
      "Epoch 63/200\n",
      "100/100 [==============================] - 1s 11ms/step - loss: 1.0773 - accuracy: 0.5700\n",
      "Epoch 64/200\n",
      "100/100 [==============================] - 1s 9ms/step - loss: 1.0637 - accuracy: 0.5800\n",
      "Epoch 65/200\n",
      "100/100 [==============================] - 1s 10ms/step - loss: 0.8936 - accuracy: 0.7000\n",
      "Epoch 66/200\n",
      "100/100 [==============================] - 1s 9ms/step - loss: 1.0112 - accuracy: 0.6200\n",
      "Epoch 67/200\n",
      "100/100 [==============================] - 1s 9ms/step - loss: 1.0527 - accuracy: 0.5900\n",
      "Epoch 68/200\n",
      "100/100 [==============================] - 1s 10ms/step - loss: 1.1095 - accuracy: 0.5700\n",
      "Epoch 69/200\n",
      "100/100 [==============================] - 1s 10ms/step - loss: 1.0826 - accuracy: 0.6000\n",
      "Epoch 70/200\n",
      "100/100 [==============================] - 1s 10ms/step - loss: 0.9153 - accuracy: 0.6500\n",
      "Epoch 71/200\n",
      "100/100 [==============================] - 1s 10ms/step - loss: 1.1054 - accuracy: 0.6800\n",
      "Epoch 72/200\n",
      "100/100 [==============================] - 1s 9ms/step - loss: 0.8917 - accuracy: 0.6300\n",
      "Epoch 73/200\n",
      "100/100 [==============================] - 1s 13ms/step - loss: 0.9349 - accuracy: 0.6800\n",
      "Epoch 74/200\n",
      "100/100 [==============================] - 1s 11ms/step - loss: 1.1050 - accuracy: 0.5900\n",
      "Epoch 75/200\n",
      "100/100 [==============================] - 1s 11ms/step - loss: 1.0309 - accuracy: 0.6000\n",
      "Epoch 76/200\n",
      "100/100 [==============================] - 1s 11ms/step - loss: 1.0073 - accuracy: 0.6200\n",
      "Epoch 77/200\n"
     ]
    },
    {
     "name": "stdout",
     "output_type": "stream",
     "text": [
      "100/100 [==============================] - 1s 12ms/step - loss: 0.9635 - accuracy: 0.5900\n",
      "Epoch 78/200\n",
      "100/100 [==============================] - 1s 11ms/step - loss: 0.8820 - accuracy: 0.6900\n",
      "Epoch 79/200\n",
      "100/100 [==============================] - 1s 11ms/step - loss: 0.9047 - accuracy: 0.5900\n",
      "Epoch 80/200\n",
      "100/100 [==============================] - 1s 10ms/step - loss: 0.7670 - accuracy: 0.7000\n",
      "Epoch 81/200\n",
      "100/100 [==============================] - 1s 10ms/step - loss: 0.8516 - accuracy: 0.6800\n",
      "Epoch 82/200\n",
      "100/100 [==============================] - 1s 10ms/step - loss: 0.7876 - accuracy: 0.7300\n",
      "Epoch 83/200\n",
      "100/100 [==============================] - 1s 11ms/step - loss: 0.8498 - accuracy: 0.7000\n",
      "Epoch 84/200\n",
      "100/100 [==============================] - 1s 10ms/step - loss: 0.7153 - accuracy: 0.7200\n",
      "Epoch 85/200\n",
      "100/100 [==============================] - 1s 10ms/step - loss: 0.6752 - accuracy: 0.7300\n",
      "Epoch 86/200\n",
      "100/100 [==============================] - 1s 9ms/step - loss: 0.9736 - accuracy: 0.6500\n",
      "Epoch 87/200\n",
      "100/100 [==============================] - 1s 11ms/step - loss: 0.8332 - accuracy: 0.6800\n",
      "Epoch 88/200\n",
      "100/100 [==============================] - 1s 10ms/step - loss: 0.8781 - accuracy: 0.6000\n",
      "Epoch 89/200\n",
      "100/100 [==============================] - 1s 10ms/step - loss: 0.8000 - accuracy: 0.7000\n",
      "Epoch 90/200\n",
      "100/100 [==============================] - 1s 12ms/step - loss: 0.7693 - accuracy: 0.6600\n",
      "Epoch 91/200\n",
      "100/100 [==============================] - 1s 12ms/step - loss: 0.7103 - accuracy: 0.7500\n",
      "Epoch 92/200\n",
      "100/100 [==============================] - 1s 11ms/step - loss: 0.8561 - accuracy: 0.6600\n",
      "Epoch 93/200\n",
      "100/100 [==============================] - 1s 11ms/step - loss: 0.7758 - accuracy: 0.7100\n",
      "Epoch 94/200\n",
      "100/100 [==============================] - 1s 10ms/step - loss: 0.9514 - accuracy: 0.6300\n",
      "Epoch 95/200\n",
      "100/100 [==============================] - 1s 12ms/step - loss: 0.9537 - accuracy: 0.6500\n",
      "Epoch 96/200\n",
      "100/100 [==============================] - 1s 11ms/step - loss: 0.7858 - accuracy: 0.6900\n",
      "Epoch 97/200\n",
      "100/100 [==============================] - 1s 11ms/step - loss: 0.7816 - accuracy: 0.6200\n",
      "Epoch 98/200\n",
      "100/100 [==============================] - 1s 11ms/step - loss: 0.7628 - accuracy: 0.6800\n",
      "Epoch 99/200\n",
      "100/100 [==============================] - 1s 11ms/step - loss: 0.9698 - accuracy: 0.6800\n",
      "Epoch 100/200\n",
      "100/100 [==============================] - 1s 12ms/step - loss: 0.7676 - accuracy: 0.6800\n",
      "Epoch 101/200\n",
      "100/100 [==============================] - 1s 10ms/step - loss: 0.8091 - accuracy: 0.6500\n",
      "Epoch 102/200\n",
      "100/100 [==============================] - 1s 11ms/step - loss: 0.6969 - accuracy: 0.7600\n",
      "Epoch 103/200\n",
      "100/100 [==============================] - 1s 9ms/step - loss: 0.7110 - accuracy: 0.7100\n",
      "Epoch 104/200\n",
      "100/100 [==============================] - 1s 11ms/step - loss: 0.7950 - accuracy: 0.7200\n",
      "Epoch 105/200\n",
      "100/100 [==============================] - 1s 9ms/step - loss: 0.8557 - accuracy: 0.7100\n",
      "Epoch 106/200\n",
      "100/100 [==============================] - 1s 11ms/step - loss: 0.8050 - accuracy: 0.6600\n",
      "Epoch 107/200\n",
      "100/100 [==============================] - 1s 11ms/step - loss: 0.8853 - accuracy: 0.6400\n",
      "Epoch 108/200\n",
      "100/100 [==============================] - 1s 11ms/step - loss: 0.7484 - accuracy: 0.7700\n",
      "Epoch 109/200\n",
      "100/100 [==============================] - 1s 10ms/step - loss: 0.5838 - accuracy: 0.7900\n",
      "Epoch 110/200\n",
      "100/100 [==============================] - 1s 11ms/step - loss: 0.5604 - accuracy: 0.7600\n",
      "Epoch 111/200\n",
      "100/100 [==============================] - 1s 8ms/step - loss: 0.8254 - accuracy: 0.6800\n",
      "Epoch 112/200\n",
      "100/100 [==============================] - 1s 10ms/step - loss: 0.7310 - accuracy: 0.7400\n",
      "Epoch 113/200\n",
      "100/100 [==============================] - 1s 11ms/step - loss: 0.7068 - accuracy: 0.7600\n",
      "Epoch 114/200\n",
      "100/100 [==============================] - 1s 10ms/step - loss: 0.7310 - accuracy: 0.7100\n",
      "Epoch 115/200\n",
      "100/100 [==============================] - 1s 10ms/step - loss: 0.6444 - accuracy: 0.7800\n",
      "Epoch 116/200\n",
      "100/100 [==============================] - 1s 10ms/step - loss: 0.7962 - accuracy: 0.6900\n",
      "Epoch 117/200\n",
      "100/100 [==============================] - 1s 11ms/step - loss: 0.7246 - accuracy: 0.7500\n",
      "Epoch 118/200\n",
      "100/100 [==============================] - 1s 11ms/step - loss: 0.6149 - accuracy: 0.7900\n",
      "Epoch 119/200\n",
      "100/100 [==============================] - 1s 10ms/step - loss: 0.6104 - accuracy: 0.7800\n",
      "Epoch 120/200\n",
      "100/100 [==============================] - 1s 10ms/step - loss: 0.6027 - accuracy: 0.7700\n",
      "Epoch 121/200\n",
      "100/100 [==============================] - 1s 10ms/step - loss: 0.5746 - accuracy: 0.7800\n",
      "Epoch 122/200\n",
      "100/100 [==============================] - 1s 10ms/step - loss: 0.6424 - accuracy: 0.8100\n",
      "Epoch 123/200\n",
      "100/100 [==============================] - 1s 12ms/step - loss: 0.7694 - accuracy: 0.7500\n",
      "Epoch 124/200\n",
      "100/100 [==============================] - 1s 9ms/step - loss: 0.5816 - accuracy: 0.8300\n",
      "Epoch 125/200\n",
      "100/100 [==============================] - 1s 9ms/step - loss: 0.5969 - accuracy: 0.7600\n",
      "Epoch 126/200\n",
      "100/100 [==============================] - 1s 11ms/step - loss: 0.8952 - accuracy: 0.7200\n",
      "Epoch 127/200\n",
      "100/100 [==============================] - 1s 10ms/step - loss: 0.6145 - accuracy: 0.8000\n",
      "Epoch 128/200\n",
      "100/100 [==============================] - 1s 11ms/step - loss: 0.7932 - accuracy: 0.6900\n",
      "Epoch 129/200\n",
      "100/100 [==============================] - 1s 11ms/step - loss: 0.7394 - accuracy: 0.7700\n",
      "Epoch 130/200\n",
      "100/100 [==============================] - 1s 10ms/step - loss: 0.6315 - accuracy: 0.7800\n",
      "Epoch 131/200\n",
      "100/100 [==============================] - 1s 11ms/step - loss: 0.4362 - accuracy: 0.7900\n",
      "Epoch 132/200\n",
      "100/100 [==============================] - 1s 8ms/step - loss: 0.5261 - accuracy: 0.8600\n",
      "Epoch 133/200\n",
      "100/100 [==============================] - 1s 10ms/step - loss: 0.3720 - accuracy: 0.8400\n",
      "Epoch 134/200\n",
      "100/100 [==============================] - 1s 8ms/step - loss: 0.7314 - accuracy: 0.7600\n",
      "Epoch 135/200\n",
      "100/100 [==============================] - 1s 8ms/step - loss: 0.6265 - accuracy: 0.7800\n",
      "Epoch 136/200\n",
      "100/100 [==============================] - 1s 11ms/step - loss: 0.5912 - accuracy: 0.7900\n",
      "Epoch 137/200\n",
      "100/100 [==============================] - 1s 10ms/step - loss: 0.5073 - accuracy: 0.8100\n",
      "Epoch 138/200\n",
      "100/100 [==============================] - 1s 10ms/step - loss: 0.4426 - accuracy: 0.8700\n",
      "Epoch 139/200\n",
      "100/100 [==============================] - 1s 11ms/step - loss: 0.5571 - accuracy: 0.8100\n",
      "Epoch 140/200\n",
      "100/100 [==============================] - 1s 9ms/step - loss: 0.5095 - accuracy: 0.8400\n",
      "Epoch 141/200\n",
      "100/100 [==============================] - 1s 10ms/step - loss: 0.4951 - accuracy: 0.8500\n",
      "Epoch 142/200\n",
      "100/100 [==============================] - 1s 10ms/step - loss: 0.3848 - accuracy: 0.8800\n",
      "Epoch 143/200\n",
      "100/100 [==============================] - 1s 9ms/step - loss: 0.4473 - accuracy: 0.8600\n",
      "Epoch 144/200\n",
      "100/100 [==============================] - 1s 8ms/step - loss: 0.2223 - accuracy: 0.9300\n",
      "Epoch 145/200\n",
      "100/100 [==============================] - 1s 10ms/step - loss: 0.5495 - accuracy: 0.8300\n",
      "Epoch 146/200\n",
      "100/100 [==============================] - 1s 11ms/step - loss: 0.3993 - accuracy: 0.8500\n",
      "Epoch 147/200\n",
      "100/100 [==============================] - 1s 11ms/step - loss: 0.4162 - accuracy: 0.8500\n",
      "Epoch 148/200\n",
      "100/100 [==============================] - 1s 9ms/step - loss: 0.3319 - accuracy: 0.8800\n",
      "Epoch 149/200\n",
      "100/100 [==============================] - 1s 9ms/step - loss: 0.4819 - accuracy: 0.8400\n",
      "Epoch 150/200\n",
      "100/100 [==============================] - 1s 10ms/step - loss: 0.4368 - accuracy: 0.8400\n",
      "Epoch 151/200\n",
      "100/100 [==============================] - 1s 10ms/step - loss: 0.3796 - accuracy: 0.8400\n",
      "Epoch 152/200\n",
      "100/100 [==============================] - 1s 10ms/step - loss: 0.5611 - accuracy: 0.7800\n",
      "Epoch 153/200\n",
      "100/100 [==============================] - 1s 11ms/step - loss: 0.5890 - accuracy: 0.8200\n",
      "Epoch 154/200\n",
      "100/100 [==============================] - 1s 11ms/step - loss: 0.4936 - accuracy: 0.8000\n",
      "Epoch 155/200\n",
      "100/100 [==============================] - 1s 11ms/step - loss: 0.4654 - accuracy: 0.8400\n",
      "Epoch 156/200\n"
     ]
    },
    {
     "name": "stdout",
     "output_type": "stream",
     "text": [
      "100/100 [==============================] - 1s 10ms/step - loss: 0.6702 - accuracy: 0.8000\n",
      "Epoch 157/200\n",
      "100/100 [==============================] - 1s 10ms/step - loss: 0.4280 - accuracy: 0.8700\n",
      "Epoch 158/200\n",
      "100/100 [==============================] - 1s 11ms/step - loss: 0.3335 - accuracy: 0.8800\n",
      "Epoch 159/200\n",
      "100/100 [==============================] - 1s 11ms/step - loss: 0.3442 - accuracy: 0.8400\n",
      "Epoch 160/200\n",
      "100/100 [==============================] - 1s 11ms/step - loss: 0.3244 - accuracy: 0.9200\n",
      "Epoch 161/200\n",
      "100/100 [==============================] - 1s 10ms/step - loss: 0.3888 - accuracy: 0.8900\n",
      "Epoch 162/200\n",
      "100/100 [==============================] - 1s 10ms/step - loss: 0.5335 - accuracy: 0.8100\n",
      "Epoch 163/200\n",
      "100/100 [==============================] - 1s 11ms/step - loss: 0.3856 - accuracy: 0.8800\n",
      "Epoch 164/200\n",
      "100/100 [==============================] - 1s 11ms/step - loss: 0.3677 - accuracy: 0.8500\n",
      "Epoch 165/200\n",
      "100/100 [==============================] - 1s 11ms/step - loss: 0.4838 - accuracy: 0.8600\n",
      "Epoch 166/200\n",
      "100/100 [==============================] - 1s 10ms/step - loss: 0.3695 - accuracy: 0.8600\n",
      "Epoch 167/200\n",
      "100/100 [==============================] - 1s 10ms/step - loss: 0.5216 - accuracy: 0.8600\n",
      "Epoch 168/200\n",
      "100/100 [==============================] - 1s 9ms/step - loss: 0.3762 - accuracy: 0.8600\n",
      "Epoch 169/200\n",
      "100/100 [==============================] - 1s 10ms/step - loss: 0.4041 - accuracy: 0.8800\n",
      "Epoch 170/200\n",
      "100/100 [==============================] - 1s 10ms/step - loss: 0.2525 - accuracy: 0.9200\n",
      "Epoch 171/200\n",
      "100/100 [==============================] - 1s 11ms/step - loss: 0.3630 - accuracy: 0.8900\n",
      "Epoch 172/200\n",
      "100/100 [==============================] - 1s 10ms/step - loss: 0.3172 - accuracy: 0.8800\n",
      "Epoch 173/200\n",
      "100/100 [==============================] - 1s 11ms/step - loss: 0.2601 - accuracy: 0.9200\n",
      "Epoch 174/200\n",
      "100/100 [==============================] - 1s 10ms/step - loss: 0.4445 - accuracy: 0.8300\n",
      "Epoch 175/200\n",
      "100/100 [==============================] - 1s 10ms/step - loss: 0.4811 - accuracy: 0.8900\n",
      "Epoch 176/200\n",
      "100/100 [==============================] - 1s 10ms/step - loss: 0.5769 - accuracy: 0.8400\n",
      "Epoch 177/200\n",
      "100/100 [==============================] - 1s 9ms/step - loss: 0.3698 - accuracy: 0.8600\n",
      "Epoch 178/200\n",
      "100/100 [==============================] - 1s 11ms/step - loss: 0.2311 - accuracy: 0.9200\n",
      "Epoch 179/200\n",
      "100/100 [==============================] - 1s 10ms/step - loss: 0.2845 - accuracy: 0.9000\n",
      "Epoch 180/200\n",
      "100/100 [==============================] - 1s 10ms/step - loss: 0.2301 - accuracy: 0.9400\n",
      "Epoch 181/200\n",
      "100/100 [==============================] - 1s 10ms/step - loss: 0.3115 - accuracy: 0.9000\n",
      "Epoch 182/200\n",
      "100/100 [==============================] - 1s 9ms/step - loss: 0.1838 - accuracy: 0.9200\n",
      "Epoch 183/200\n",
      "100/100 [==============================] - 1s 8ms/step - loss: 0.4323 - accuracy: 0.8300\n",
      "Epoch 184/200\n",
      " 97/100 [============================>.] - ETA: 0s - loss: 0.1241 - accuracy: 0.9588\n",
      "Reached 94% accuracy, stopping training!\n",
      "100/100 [==============================] - 1s 9ms/step - loss: 0.1458 - accuracy: 0.9500\n"
     ]
    }
   ],
   "source": [
    "fitted_model = model.fit(training_set,\n",
    "                        steps_per_epoch = 100,\n",
    "                        epochs = 200,\n",
    "                        validation_data = test_set,\n",
    "                        validation_steps = 100, callbacks = accuracy_callback)"
   ]
  },
  {
   "cell_type": "code",
   "execution_count": 19,
   "id": "407bccca",
   "metadata": {},
   "outputs": [
    {
     "data": {
      "text/plain": [
       "[<matplotlib.lines.Line2D at 0x138816d13d0>]"
      ]
     },
     "execution_count": 19,
     "metadata": {},
     "output_type": "execute_result"
    },
    {
     "data": {
      "image/png": "[encoded data removed]",
      "text/plain": [
       "<Figure size 640x480 with 1 Axes>"
      ]
     },
     "metadata": {},
     "output_type": "display_data"
    }
   ],
   "source": [
    "plt.plot(range(len(fitted_model.history['accuracy'])), fitted_model.history['accuracy'])\n",
    "plt.plot(range(len(fitted_model.history['loss'])), fitted_model.history['loss'])"
   ]
  },
  {
   "cell_type": "code",
   "execution_count": 20,
   "id": "82663680",
   "metadata": {},
   "outputs": [],
   "source": [
    "def image_predictions(path):\n",
    "    predictions = model.predict(test_set)\n",
    "    predicted_classes = np.argmax(predictions, axis=-1)\n",
    "    l=os.listdir('input/Getretore_Image_Classification_dataset/seg_train/seg_train')\n",
    "    l.sort()\n",
    "    return l[predicted_classes[0]]"
   ]
  },
  {
   "cell_type": "code",
   "execution_count": 21,
   "id": "d024c2bb",
   "metadata": {},
   "outputs": [
    {
     "data": {
      "image/png": "[encoded data removed]",
      "text/plain": [
       "<PIL.JpegImagePlugin.JpegImageFile image mode=RGB size=64x64>"
      ]
     },
     "execution_count": 21,
     "metadata": {},
     "output_type": "execute_result"
    }
   ],
   "source": [
    "imagee1=Image.open('input/Getretore_Image_Classification_dataset/seg_pred/30AHLXDUIW8T.jpg')\n",
    "imagee1"
   ]
  },
  {
   "cell_type": "code",
   "execution_count": 23,
   "id": "9f7c14c3",
   "metadata": {},
   "outputs": [
    {
     "name": "stdout",
     "output_type": "stream",
     "text": [
      "90/90 [==============================] - 1s 5ms/step\n"
     ]
    },
    {
     "data": {
      "text/plain": [
       "'Bahari'"
      ]
     },
     "execution_count": 23,
     "metadata": {},
     "output_type": "execute_result"
    }
   ],
   "source": [
    "# Let's make prediction for the above image\n",
    "image_predictions('imagee1')"
   ]
  },
  {
   "cell_type": "code",
   "execution_count": 24,
   "id": "383a3cf2",
   "metadata": {},
   "outputs": [
    {
     "data": {
      "image/png": "[encoded data removed]",
      "text/plain": [
       "<PIL.JpegImagePlugin.JpegImageFile image mode=RGB size=64x64>"
      ]
     },
     "execution_count": 24,
     "metadata": {},
     "output_type": "execute_result"
    }
   ],
   "source": [
    "imagee2=Image.open('input/Getretore_Image_Classification_dataset/seg_pred/cagarAlam_115.jpg')\n",
    "imagee2"
   ]
  },
  {
   "cell_type": "code",
   "execution_count": 41,
   "id": "cce036b7",
   "metadata": {},
   "outputs": [
    {
     "name": "stdout",
     "output_type": "stream",
     "text": [
      "90/90 [==============================] - 1s 5ms/step\n"
     ]
    },
    {
     "data": {
      "text/plain": [
       "'Cagar Alam'"
      ]
     },
     "execution_count": 41,
     "metadata": {},
     "output_type": "execute_result"
    }
   ],
   "source": [
    "# Let's make prediction for the above image\n",
    "image_predictions('imagee2')"
   ]
  },
  {
   "cell_type": "code",
   "execution_count": 39,
   "id": "9fdff356",
   "metadata": {},
   "outputs": [
    {
     "data": {
      "image/png": "[encoded data removed]",
      "text/plain": [
       "<PIL.JpegImagePlugin.JpegImageFile image mode=RGB size=64x64>"
      ]
     },
     "execution_count": 39,
     "metadata": {},
     "output_type": "execute_result"
    }
   ],
   "source": [
    "imagee3=Image.open('input/Getretore_Image_Classification_dataset/seg_pred/0HAZ9S44YVQM.jpg')\n",
    "imagee3"
   ]
  },
  {
   "cell_type": "code",
   "execution_count": 60,
   "id": "655bba48",
   "metadata": {},
   "outputs": [
    {
     "name": "stdout",
     "output_type": "stream",
     "text": [
      "90/90 [==============================] - 0s 5ms/step\n"
     ]
    },
    {
     "data": {
      "text/plain": [
       "'Tempat Ibadah'"
      ]
     },
     "execution_count": 60,
     "metadata": {},
     "output_type": "execute_result"
    }
   ],
   "source": [
    "#### Let's make prediction for the above image\n",
    "image_predictions(imagee3)"
   ]
  },
  {
   "cell_type": "markdown",
   "id": "033b1a0a",
   "metadata": {},
   "source": [
    "### Save the model "
   ]
  },
  {
   "cell_type": "code",
   "execution_count": 61,
   "id": "502692ad",
   "metadata": {},
   "outputs": [],
   "source": [
    "model.save(\"image_getretore.h5\")"
   ]
  }
 ],
 "metadata": {
  "kernelspec": {
   "display_name": "Python 3.9 (tensorflow)",
   "language": "python",
   "name": "tensorflow"
  },
  "language_info": {
   "codemirror_mode": {
    "name": "ipython",
    "version": 3
   },
   "file_extension": ".py",
   "mimetype": "text/x-python",
   "name": "python",
   "nbconvert_exporter": "python",
   "pygments_lexer": "ipython3",
   "version": "3.9.16"
  }
 },
 "nbformat": 4,
 "nbformat_minor": 5
}
